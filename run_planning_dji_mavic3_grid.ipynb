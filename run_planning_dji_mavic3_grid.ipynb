{
 "cells": [
  {
   "cell_type": "markdown",
   "metadata": {},
   "source": []
  },
  {
   "cell_type": "code",
   "execution_count": 1,
   "metadata": {},
   "outputs": [],
   "source": [
    "\n",
    "import numpy as np\n",
    "import os, shutil\n",
    "from drone_planning_functions import TransCoordsLatLonToPS, TransCoordsPSToLatLon\n",
    "from drone_planning_functions import read_attribute, NewWaypoint, write_header\n",
    "\n",
    "speed  = 5          # meters per second\n",
    "pitch  = -90        # -90 is nadir\n",
    "EPSG   = 32632      # EPSG\n",
    "altref = 'WGS84'    # can be an integer \"relativeToStartPoint\" or \"WGS84\" \n",
    "\n",
    "# Path where shapefile with points are stored\n",
    "top_path = \"C:\\\\Users\\\\sfranke\\\\Seafile\\\\Orca\\\\Projects\\\\Vernagtferner\\\\2024\\\\flightplanner\\\\testcase_schwanewede\\\\\"\n",
    "\n",
    "# Input poits where to take pictures\n",
    "inshape = top_path + \"SCHW_2_projection_centres.shp\"\n",
    "\n",
    "# Filename for the final output file and folder on the controller\n",
    "filename = top_path + '59CB6FB3-005E-433D-B8F8-2BA8C39A4C35____TEST'\n",
    "\n",
    "# define wpmz directory and waylines.wpml file\n",
    "wpmz_dir = top_path + \"wpmz\"\n",
    "outfile  = top_path + \"wpmz\\\\waylines.wpml\"\n",
    "\n",
    "# Open output file in \"write\" mode\n",
    "outfile = open(outfile ,'w')\n",
    "\n",
    "# Write KML file header\n",
    "write_header(speed,outfile,altref)\n",
    "\n",
    "# Read fotonumbers, coords and absolute altitude above ground from shapefile\n",
    "fotonums = np.array(read_attribute(inshape,1)).astype(int)\n",
    "xcoords  = np.array(read_attribute(inshape,2)).astype(float)\n",
    "ycoords  = np.array(read_attribute(inshape,3)).astype(float)\n",
    "altasl   = np.array(read_attribute(inshape,4)).astype(float)\n",
    "\n",
    "# Rearrange order to follow the fotonumber increment\n",
    "grid = np.stack((fotonums,xcoords,ycoords,altasl),axis=1)\n",
    "grid = grid[np.argsort(grid[:,0])]\n",
    "\n",
    "# Convert coordinates to Lon, Lat\n",
    "# Create KML block for a new waypoint\n",
    "for i in np.arange(len(fotonums)):\n",
    "\tlon,lat,alt = TransCoordsPSToLatLon(EPSG).TransformPoint(grid[i,1],grid[i,2],grid[i,3])\n",
    "\tNewWaypoint(lon,lat,int(grid[i,0]-1),alt,speed,outfile,pitch)\n",
    "\n",
    "# Write KML file footer & close\n",
    "outfile.write('    </Folder>\\n')\n",
    "outfile.write('  </Document>\\n')\n",
    "outfile.write('</kml>\\n')\n",
    "outfile.close()\n",
    "\n",
    "# Remove file if exists\n",
    "if os.path.exists(filename + '.kmz'):\n",
    "\tos.remove(filename + '.kmz')\n",
    "\n",
    "# Compress (zip) the \"wpmz\" directory, where the waylines KML file is stored\n",
    "shutil.make_archive(filename, 'zip', wpmz_dir)\n",
    "\n",
    "# Rename \".zip\" to \".kmz\"\n",
    "os.replace(filename + '.zip', filename + '.kmz')\n"
   ]
  },
  {
   "cell_type": "code",
   "execution_count": null,
   "metadata": {},
   "outputs": [],
   "source": [
    "filename \n"
   ]
  },
  {
   "cell_type": "markdown",
   "metadata": {},
   "source": []
  },
  {
   "cell_type": "code",
   "execution_count": null,
   "metadata": {},
   "outputs": [],
   "source": [
    "import xml.etree.ElementTree as ET\n",
    "tree = ET.parse(\"C:\\\\Users\\\\sfranke\\\\Seafile\\\\Orca\\\\Projects\\\\Vernagtferner\\\\2024\\\\flightplanner\\\\testcase_schwanewede\\\\compare\\\\waylines_v2_niklas.wpml\")\n",
    "root = tree.getroot()\n",
    "\n",
    "for child in root:\n",
    "    print(child.tag, child.attrib)"
   ]
  },
  {
   "cell_type": "code",
   "execution_count": null,
   "metadata": {},
   "outputs": [],
   "source": [
    "tree"
   ]
  },
  {
   "cell_type": "code",
   "execution_count": null,
   "metadata": {},
   "outputs": [],
   "source": []
  }
 ],
 "metadata": {
  "kernelspec": {
   "display_name": "geo",
   "language": "python",
   "name": "python3"
  },
  "language_info": {
   "codemirror_mode": {
    "name": "ipython",
    "version": 3
   },
   "file_extension": ".py",
   "mimetype": "text/x-python",
   "name": "python",
   "nbconvert_exporter": "python",
   "pygments_lexer": "ipython3",
   "version": "3.10.4"
  }
 },
 "nbformat": 4,
 "nbformat_minor": 2
}
