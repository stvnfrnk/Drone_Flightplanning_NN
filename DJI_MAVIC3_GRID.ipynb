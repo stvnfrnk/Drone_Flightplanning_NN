{
 "cells": [
  {
   "cell_type": "markdown",
   "metadata": {},
   "source": []
  },
  {
   "cell_type": "code",
   "execution_count": 4,
   "metadata": {},
   "outputs": [],
   "source": [
    "from osgeo import ogr,osr\n",
    "import datetime\n",
    "import numpy as np\n",
    "import shutil\n",
    "import os\n",
    "\n",
    "def TransCoordsLatLonToPS(EPSG):\n",
    "\tsrs_in = osr.SpatialReference()\n",
    "\tsrs_in.SetAxisMappingStrategy(osr.OAMS_TRADITIONAL_GIS_ORDER)\n",
    "\tsrs_in.ImportFromEPSG(4326)\n",
    "\tsrs_out = osr.SpatialReference()\n",
    "\tsrs_out.ImportFromEPSG(EPSG)\n",
    "\tct = osr.CoordinateTransformation(srs_in,srs_out)\n",
    "\treturn ct\n",
    "\n",
    "def TransCoordsPSToLatLon(EPSG):\n",
    "\tsrs_in_back = osr.SpatialReference()\n",
    "\tsrs_in_back.ImportFromEPSG(EPSG)\n",
    "\tsrs_out_back = osr.SpatialReference()\n",
    "\tsrs_out_back.ImportFromEPSG(4326)\n",
    "\tsrs_out_back.SetAxisMappingStrategy(osr.OAMS_TRADITIONAL_GIS_ORDER)\n",
    "\tct_back = osr.CoordinateTransformation(srs_in_back,srs_out_back)\n",
    "\treturn ct_back\n",
    "\t\n",
    "def read_attribute(shapefile,row):\n",
    "\tdriver = ogr.GetDriverByName(\"ESRI Shapefile\")\n",
    "\tdataSource = driver.Open(shapefile)\n",
    "\tlayer = dataSource.GetLayer(0)\n",
    "\tattributelist = []\n",
    "\tfor feature in layer:\n",
    "\t\tattribute = feature.GetField(row)\n",
    "\t\tattributelist.append(attribute)\n",
    "\treturn attributelist\n",
    "\t\n",
    "def NewWaypoint(lon,lat,no,alt,speed,outfile,pitch):\n",
    "\toutfile.write('      <Placemark>\\n')\n",
    "\toutfile.write('        <Point>\\n')\n",
    "\toutfile.write('          <coordinates>\\n')\n",
    "\toutfile.write('            {},{}\\n'.format(lon,lat))\n",
    "\toutfile.write('          </coordinates>\\n')\n",
    "\toutfile.write('        </Point>\\n')\n",
    "\toutfile.write('        <wpml:index>{}</wpml:index>\\n'.format(no))\n",
    "\toutfile.write('        <wpml:executeHeight>{}</wpml:executeHeight>\\n'.format(alt))\n",
    "\toutfile.write('        <wpml:waypointSpeed>{}</wpml:waypointSpeed>\\n'.format(speed))\n",
    "\toutfile.write('        <wpml:waypointHeadingParam>\\n')\n",
    "\toutfile.write('          <wpml:waypointHeadingMode>followWayline</wpml:waypointHeadingMode>\\n')\n",
    "\toutfile.write('        </wpml:waypointHeadingParam>\\n')\n",
    "\toutfile.write('        <wpml:waypointTurnParam>\\n')\n",
    "\toutfile.write('          <wpml:waypointTurnMode>toPointAndPassWithContinuityCurvature</wpml:waypointTurnMode>\\n')\n",
    "\toutfile.write('          <wpml:waypointTurnDampingDist>0</wpml:waypointTurnDampingDist>\\n')\n",
    "\toutfile.write('        </wpml:waypointTurnParam>\\n')\n",
    "\toutfile.write('        <wpml:actionGroup>\\n')\n",
    "\toutfile.write('          <wpml:actionGroupId>0</wpml:actionGroupId>\\n')\n",
    "\toutfile.write('          <wpml:actionGroupStartIndex>{}</wpml:actionGroupStartIndex>\\n'.format(no))\n",
    "\toutfile.write('          <wpml:actionGroupEndIndex>{}</wpml:actionGroupEndIndex>\\n'.format(no))\n",
    "\toutfile.write('          <wpml:actionGroupMode>sequence</wpml:actionGroupMode>\\n')#can be parallel or sequence\n",
    "\toutfile.write('          <wpml:actionTrigger>\\n')\n",
    "\toutfile.write('            <wpml:actionTriggerType>reachPoint</wpml:actionTriggerType>\\n')\n",
    "\toutfile.write('          </wpml:actionTrigger>\\n')\n",
    "\toutfile.write('          <wpml:action>\\n') ###1st action at waypoint pitch gimbal\n",
    "\toutfile.write('            <wpml:actionId>0</wpml:actionId>\\n')\n",
    "\toutfile.write('            <wpml:actionActuatorFunc>gimbalEvenlyRotate</wpml:actionActuatorFunc>\\n')#gimbalRotate?\n",
    "\toutfile.write('            <wpml:actionActuatorFuncParam>\\n')\n",
    "\toutfile.write('              <wpml:gimbalPitchRotateAngle>{}</wpml:gimbalPitchRotateAngle>\\n'.format(pitch))\n",
    "\toutfile.write('              <wpml:payloadPositionIndex>0</wpml:payloadPositionIndex>\\n')\n",
    "\toutfile.write('            </wpml:actionActuatorFuncParam>\\n')\n",
    "\toutfile.write('          </wpml:action>\\n')\n",
    "\toutfile.write('          <wpml:action>\\n') ###2nd action take photo\n",
    "\toutfile.write('            <wpml:actionId>1</wpml:actionId>\\n')\n",
    "\toutfile.write('            <wpml:actionActuatorFunc>takePhoto</wpml:actionActuatorFunc>\\n')\n",
    "\toutfile.write('            <wpml:actionActuatorFuncParam>\\n')\n",
    "\toutfile.write('              <wpml:fileSuffix>IMAGE_{}</wpml:fileSuffix>\\n'.format(no+1))\n",
    "\toutfile.write('              <wpml:payloadPositionIndex>0</wpml:payloadPositionIndex>\\n')\n",
    "\toutfile.write('            </wpml:actionActuatorFuncParam>\\n')\n",
    "\toutfile.write('          </wpml:action>\\n')\n",
    "\toutfile.write('        </wpml:actionGroup>\\n')\n",
    "\toutfile.write('      </Placemark>\\n')\n",
    "\n",
    "top_path = \"C:\\\\Users\\\\sfranke\\\\Seafile\\\\Orca\\\\Projects\\\\Vernagtferner\\\\2024\\\\flightplanner\\\\testcase_blockland\\\\\"\n",
    "speed    = 5\n",
    "# inshape  = 'ROIUTM32_waypoints.shp'\n",
    "# inshape  = top_path + \"SCHW_2_projection_centres.shp\"\n",
    "inshape  = top_path + \"projection_centres_B3.shp\"\n",
    "EPSG     = 32632\n",
    "altref   = 'WGS84' #relativeToStartPoint\n",
    "pitch    = -90\n",
    "filename = top_path + '59CB6FB3-005E-433D-B8F8-2BA8C39A4C35'\n",
    "# filename = top_path + \"2E4DCBAF-F5BB-41F3-ABE8-C5482BF8D60B\"\n",
    "# filename = top_path + \"9BC392D1-A374-4B25-ABB5-6A7352E7A0D8\"\n",
    "wpmz_dir = top_path + \"wpmz\"\n",
    "outfile  = top_path + \"wpmz\\\\waylines.wpml\"\n",
    "\n",
    "outfile = open(outfile,'w')\n",
    "outfile.write('<?xml version=\"1.0\" encoding=\"UTF-8\"?>\\n')\n",
    "outfile.write('<kml xmlns=\"http://www.opengis.net/kml/2.2\" xmlns:wpml=\"http://www.dji.com/wpmz/1.0.2\">\\n')\n",
    "outfile.write('  <Document>\\n')\n",
    "outfile.write('    <wpml:missionConfig>\\n')\n",
    "outfile.write('      <wpml:flyToWaylineMode>safely</wpml:flyToWaylineMode>\\n')\n",
    "outfile.write('      <wpml:finishAction>goHome</wpml:finishAction>\\n')\n",
    "outfile.write('      <wpml:exitOnRCLost>executeLostAction</wpml:exitOnRCLost>\\n')\n",
    "outfile.write('      <wpml:executeRCLostAction>goBack</wpml:executeRCLostAction>\\n')\n",
    "outfile.write('      <wpml:globalTransitionalSpeed>{}</wpml:globalTransitionalSpeed>\\n'.format(speed))\n",
    "outfile.write('      <wpml:droneInfo>\\n')\n",
    "outfile.write('        <wpml:droneEnumValue>68</wpml:droneEnumValue>\\n')\n",
    "outfile.write('        <wpml:droneSubEnumValue>0</wpml:droneSubEnumValue>\\n')\n",
    "outfile.write('      </wpml:droneInfo>\\n')\n",
    "outfile.write('    </wpml:missionConfig>\\n')\n",
    "outfile.write('    <Folder>\\n')\n",
    "outfile.write('      <wpml:templateId>0</wpml:templateId>\\n')\n",
    "outfile.write('      <wpml:executeHeightMode>{}</wpml:executeHeightMode>\\n'.format(altref))\n",
    "outfile.write('      <wpml:waylineId>0</wpml:waylineId>\\n')\n",
    "outfile.write('      <wpml:autoFlightSpeed>{}</wpml:autoFlightSpeed>\\n'.format(speed))\n",
    "\n",
    "fotonums = np.array(read_attribute(inshape,1)).astype(int)\n",
    "xcoords = np.array(read_attribute(inshape,2)).astype(float)\n",
    "ycoords = np.array(read_attribute(inshape,3)).astype(float)\n",
    "altasl = np.array(read_attribute(inshape,4)).astype(float)\n",
    "grid = np.stack((fotonums,xcoords,ycoords,altasl),axis=1)\n",
    "grid = grid[np.argsort(grid[:,0])]\n",
    "for i in np.arange(len(fotonums)):\n",
    "\tlon,lat,alt = TransCoordsPSToLatLon(EPSG).TransformPoint(grid[i,1],grid[i,2],grid[i,3])\n",
    "\tNewWaypoint(lon,lat,int(grid[i,0]-1),alt,speed,outfile,pitch)\n",
    "outfile.write('    </Folder>\\n')\n",
    "outfile.write('  </Document>\\n')\n",
    "outfile.write('</kml>\\n')\n",
    "outfile.close()\n",
    "if os.path.exists(filename + '.kmz'):\n",
    "\tos.remove(filename + '.kmz')\n",
    "shutil.make_archive(filename, 'zip', wpmz_dir)\n",
    "os.replace(filename + '.zip', filename + '.kmz')\n"
   ]
  },
  {
   "cell_type": "code",
   "execution_count": 8,
   "metadata": {},
   "outputs": [
    {
     "data": {
      "text/plain": [
       "'C:\\\\Users\\\\sfranke\\\\Seafile\\\\Orca\\\\Projects\\\\Vernagtferner\\\\2024\\\\flightplanner\\\\testcase_schwanewede\\\\180D5472-7CD5-4DBE-96A8-F4B7B2336369'"
      ]
     },
     "execution_count": 8,
     "metadata": {},
     "output_type": "execute_result"
    }
   ],
   "source": [
    "filename \n"
   ]
  },
  {
   "cell_type": "markdown",
   "metadata": {},
   "source": []
  },
  {
   "cell_type": "code",
   "execution_count": 6,
   "metadata": {},
   "outputs": [
    {
     "name": "stdout",
     "output_type": "stream",
     "text": [
      "{http://www.opengis.net/kml/2.2}Document {}\n"
     ]
    }
   ],
   "source": [
    "import xml.etree.ElementTree as ET\n",
    "tree = ET.parse(\"C:\\\\Users\\\\sfranke\\\\Seafile\\\\Orca\\\\Projects\\\\Vernagtferner\\\\2024\\\\flightplanner\\\\testcase_schwanewede\\\\compare\\\\waylines_v2_niklas.wpml\")\n",
    "root = tree.getroot()\n",
    "\n",
    "for child in root:\n",
    "    print(child.tag, child.attrib)"
   ]
  },
  {
   "cell_type": "code",
   "execution_count": 5,
   "metadata": {},
   "outputs": [
    {
     "data": {
      "text/plain": [
       "<xml.etree.ElementTree.ElementTree at 0x1c5e5eccd90>"
      ]
     },
     "execution_count": 5,
     "metadata": {},
     "output_type": "execute_result"
    }
   ],
   "source": [
    "tree"
   ]
  },
  {
   "cell_type": "code",
   "execution_count": null,
   "metadata": {},
   "outputs": [],
   "source": []
  }
 ],
 "metadata": {
  "kernelspec": {
   "display_name": "geo",
   "language": "python",
   "name": "python3"
  },
  "language_info": {
   "codemirror_mode": {
    "name": "ipython",
    "version": 3
   },
   "file_extension": ".py",
   "mimetype": "text/x-python",
   "name": "python",
   "nbconvert_exporter": "python",
   "pygments_lexer": "ipython3",
   "version": "3.10.4"
  }
 },
 "nbformat": 4,
 "nbformat_minor": 2
}
